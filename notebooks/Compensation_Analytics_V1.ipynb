{
  "nbformat": 4,
  "nbformat_minor": 0,
  "metadata": {
    "colab": {
      "provenance": [],
      "authorship_tag": "ABX9TyN9wBqUaUmsmUPBXk+Ze7/k",
      "include_colab_link": true
    },
    "kernelspec": {
      "name": "python3",
      "display_name": "Python 3"
    },
    "language_info": {
      "name": "python"
    }
  },
  "cells": [
    {
      "cell_type": "markdown",
      "metadata": {
        "id": "view-in-github",
        "colab_type": "text"
      },
      "source": [
        "<a href=\"https://colab.research.google.com/github/AMBOT-pixel96/hr-tech-portfolio/blob/main/notebooks/Compensation_Analytics_V1.ipynb\" target=\"_parent\"><img src=\"https://colab.research.google.com/assets/colab-badge.svg\" alt=\"Open In Colab\"/></a>"
      ]
    },
    {
      "cell_type": "markdown",
      "source": [
        "# Project 10: Compensation Analytics (v1.0)\n",
        "\n",
        "**Objective:**  \n",
        "Analyze synthetic HR Compensation dataset to extract key insights: pay distribution, gender pay gap, and bonus allocation.  \n",
        "\n",
        "**Business Context:**  \n",
        "Compensation & Benefits (C&B) analytics helps HR leaders answer:  \n",
        "- Are we paying fairly across levels, genders, departments?  \n",
        "- How are bonuses distributed?  \n",
        "- Where are the gaps or outliers that need intervention?  \n",
        "\n",
        "This notebook covers:  \n",
        "1. Load & explore dataset  \n",
        "2. Core metrics (Avg/Median CTC)  \n",
        "3. Bonus % analysis  \n",
        "4. Gender pay gap  \n",
        "5. Visuals (CTC by level, gender gap, bonus distribution)  \n",
        "6. Export artifacts"
      ],
      "metadata": {
        "id": "n9eG762wmFD6"
      }
    }
  ]
}