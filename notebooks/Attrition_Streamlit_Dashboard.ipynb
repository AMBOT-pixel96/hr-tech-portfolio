# Save training columns for alignment
import joblib
joblib.dump(X.columns.tolist(), "models/trained_columns.pkl")
