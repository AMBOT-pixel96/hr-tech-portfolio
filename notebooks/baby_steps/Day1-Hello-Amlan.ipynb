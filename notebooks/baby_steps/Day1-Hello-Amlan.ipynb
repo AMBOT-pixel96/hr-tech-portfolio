{
 "cells": [
  {
   "cell_type": "code",
   "execution_count": 1,
   "id": "33fe582a-b3ec-4383-9257-e1e33bcbd06f",
   "metadata": {},
   "outputs": [
    {
     "name": "stdout",
     "output_type": "stream",
     "text": [
      "Hello Amlan - HR Tech Transformation 🚀\n"
     ]
    }
   ],
   "source": [
    "print(\"Hello Amlan - HR Tech Transformation 🚀\")"
   ]
  },
  {
   "cell_type": "code",
   "execution_count": null,
   "id": "8289e3e1-3f6a-49e3-bad4-9aa83557e95e",
   "metadata": {},
   "outputs": [],
   "source": []
  }
 ],
 "metadata": {
  "kernelspec": {
   "display_name": "Python 3 (ipykernel)",
   "language": "python",
   "name": "python3"
  },
  "language_info": {
   "codemirror_mode": {
    "name": "ipython",
    "version": 3
   },
   "file_extension": ".py",
   "mimetype": "text/x-python",
   "name": "python",
   "nbconvert_exporter": "python",
   "pygments_lexer": "ipython3",
   "version": "3.13.5"
  }
 },
 "nbformat": 4,
 "nbformat_minor": 5
}
