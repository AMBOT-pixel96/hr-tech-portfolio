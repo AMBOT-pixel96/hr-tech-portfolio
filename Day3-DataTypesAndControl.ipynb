{
 "cells": [
  {
   "cell_type": "code",
   "execution_count": 1,
   "id": "e75b82dc-d5e4-4712-91cf-f89c6b7677ef",
   "metadata": {},
   "outputs": [
    {
     "name": "stdout",
     "output_type": "stream",
     "text": [
      "Amlan earns 1404000 as a HR Tech professional with these skills : ['PowerBI', 'Oracle Fusion', 'Python']\n"
     ]
    }
   ],
   "source": [
    "#1.Dictionaries\n",
    "employee={\n",
    "    \"name\":\"Amlan\",\n",
    "    \"role\":\"HR Tech\",\n",
    "    \"salary\":1404000,\n",
    "    \"skills\":[\"PowerBI\",\"Oracle Fusion\",\"Python\"]\n",
    "}\n",
    "print(employee[\"name\"],\"earns\",employee[\"salary\"],\"as a\",employee[\"role\"],\"professional with these skills :\",employee[\"skills\"])"
   ]
  },
  {
   "cell_type": "code",
   "execution_count": 4,
   "id": "6d632263-208c-4ec3-8caf-460b9d27cb26",
   "metadata": {},
   "outputs": [
    {
     "name": "stdout",
     "output_type": "stream",
     "text": [
      "High Risk - Action Needed\n"
     ]
    }
   ],
   "source": [
    "#2.If-Else\n",
    "attrition_risk =0.7\n",
    "if attrition_risk > 0.5:\n",
    "    print(\"High Risk - Action Needed\")\n",
    "else:\n",
    "    print(\"Low Risk - All Good\")"
   ]
  },
  {
   "cell_type": "code",
   "execution_count": 5,
   "id": "bc5ca8b7-0a97-412c-a209-b1b53402579c",
   "metadata": {},
   "outputs": [
    {
     "name": "stdout",
     "output_type": "stream",
     "text": [
      "Skill: Excel\n",
      "Skill: VBA\n",
      "Skill: PowerBI\n",
      "Skill: Python\n"
     ]
    }
   ],
   "source": [
    "#3.For Loop\n",
    "skills=[\"Excel\",\"VBA\",\"PowerBI\",\"Python\"]\n",
    "for s in skills:\n",
    "    print(\"Skill:\",s)"
   ]
  },
  {
   "cell_type": "code",
   "execution_count": 6,
   "id": "dc24bec9-201c-4dee-9cf1-6c48ceadbe1e",
   "metadata": {},
   "outputs": [
    {
     "name": "stdout",
     "output_type": "stream",
     "text": [
      "Iteration: 0\n",
      "Iteration: 1\n",
      "Iteration: 2\n",
      "Iteration: 3\n",
      "Iteration: 4\n"
     ]
    }
   ],
   "source": [
    "#4.For-Loop-2\n",
    "for i in range(5):\n",
    "    print(\"Iteration:\",i)"
   ]
  },
  {
   "cell_type": "code",
   "execution_count": 7,
   "id": "482be013-f037-43c9-940a-4ac820bbc512",
   "metadata": {},
   "outputs": [
    {
     "name": "stdout",
     "output_type": "stream",
     "text": [
      "Iteration: 0\n",
      "Iteration: 1\n",
      "Iteration: 2\n"
     ]
    }
   ],
   "source": [
    "#5.While-Loop\n",
    "count=0\n",
    "while count<3:\n",
    "    print(\"Iteration:\",count)\n",
    "    count+=1"
   ]
  },
  {
   "cell_type": "code",
   "execution_count": 10,
   "id": "0cc505aa-d2f0-4b4e-bcad-967467dd5c4a",
   "metadata": {},
   "outputs": [
    {
     "name": "stdout",
     "output_type": "stream",
     "text": [
      "Salary with bonus: 1572480\n"
     ]
    }
   ],
   "source": [
    "#6.Function\n",
    "def bonus_calc(salary,bonus_pct):\n",
    "    return round(salary*(1+bonus_pct))\n",
    "print (\"Salary with bonus:\",bonus_calc(1404000,0.12))"
   ]
  },
  {
   "cell_type": "code",
   "execution_count": null,
   "id": "b4d596cc-e22d-451f-a4e1-a25306fb1032",
   "metadata": {},
   "outputs": [],
   "source": []
  }
 ],
 "metadata": {
  "kernelspec": {
   "display_name": "Python 3 (ipykernel)",
   "language": "python",
   "name": "python3"
  },
  "language_info": {
   "codemirror_mode": {
    "name": "ipython",
    "version": 3
   },
   "file_extension": ".py",
   "mimetype": "text/x-python",
   "name": "python",
   "nbconvert_exporter": "python",
   "pygments_lexer": "ipython3",
   "version": "3.13.5"
  }
 },
 "nbformat": 4,
 "nbformat_minor": 5
}
