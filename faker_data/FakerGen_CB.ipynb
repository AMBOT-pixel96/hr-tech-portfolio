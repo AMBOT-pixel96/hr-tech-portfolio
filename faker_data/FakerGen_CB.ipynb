{
  "nbformat": 4,
  "nbformat_minor": 0,
  "metadata": {
    "colab": {
      "provenance": [],
      "authorship_tag": "ABX9TyPQUvoKWigrDNijmnfAufyT",
      "include_colab_link": true
    },
    "kernelspec": {
      "name": "python3",
      "display_name": "Python 3"
    },
    "language_info": {
      "name": "python"
    }
  },
  "cells": [
    {
      "cell_type": "markdown",
      "metadata": {
        "id": "view-in-github",
        "colab_type": "text"
      },
      "source": [
        "<a href=\"https://colab.research.google.com/github/AMBOT-pixel96/hr-tech-portfolio/blob/main/faker_data/FakerGen_CB.ipynb\" target=\"_parent\"><img src=\"https://colab.research.google.com/assets/colab-badge.svg\" alt=\"Open In Colab\"/></a>"
      ]
    },
    {
      "cell_type": "code",
      "execution_count": 2,
      "metadata": {
        "id": "Pb86iceOf10R",
        "colab": {
          "base_uri": "https://localhost:8080/"
        },
        "outputId": "ff8221c2-4389-4cba-98b5-a02ca5c11dcc"
      },
      "outputs": [
        {
          "output_type": "stream",
          "name": "stdout",
          "text": [
            "🔑 Enter your GitHub token: ··········\n",
            "/content/hr-tech-portfolio\n",
            "employee_master.csv\n"
          ]
        }
      ],
      "source": [
        "# -------------------------------\n",
        "# Step 0 — Clone hr-tech-portfolio (with PAT)\n",
        "# -------------------------------\n",
        "import os\n",
        "from getpass import getpass\n",
        "\n",
        "# Ask for your GitHub Personal Access Token\n",
        "token = getpass(\"🔑 Enter your GitHub token: \")\n",
        "\n",
        "# Clean any previous clone\n",
        "os.system(\"rm -rf hr-tech-portfolio\")\n",
        "\n",
        "# Clone with token authentication\n",
        "os.system(f\"git clone https://{token}@github.com/AMBOT-pixel96/hr-tech-portfolio.git\")\n",
        "\n",
        "# Move inside repo\n",
        "%cd hr-tech-portfolio\n",
        "\n",
        "# Check if faker_data exists\n",
        "!ls faker_data | head"
      ]
    },
    {
      "cell_type": "code",
      "source": [
        "# -------------------------------\n",
        "# Step 1 — Refurbish Mammoth into Dashboard Feeds\n",
        "# -------------------------------\n",
        "import pandas as pd\n",
        "import numpy as np\n",
        "import os\n",
        "\n",
        "# Load the full faker mammoth\n",
        "df = pd.read_csv(\"faker_data/employee_master.csv\")\n",
        "\n",
        "# -------------------------------\n",
        "# Create Internal Feed: employee_compensation.csv\n",
        "# -------------------------------\n",
        "employee_comp = df[[\n",
        "    \"EmpID\",\n",
        "    \"Gender\",\n",
        "    \"Dept\",\n",
        "    \"JobTitle\",\n",
        "    \"JobLevel\",\n",
        "    \"CTC\",\n",
        "    \"Bonus\",\n",
        "    \"PerformanceRating\"\n",
        "]].rename(columns={\n",
        "    \"EmpID\": \"EmployeeID\",\n",
        "    \"Dept\": \"Department\",\n",
        "    \"JobTitle\": \"JobRole\"\n",
        "})\n",
        "\n",
        "# Save to /data\n",
        "os.makedirs(\"data\", exist_ok=True)\n",
        "employee_comp.to_csv(\"data/employee_compensation.csv\", index=False)\n",
        "\n",
        "print(\"✅ employee_compensation.csv created:\", employee_comp.shape)\n",
        "\n",
        "# -------------------------------\n",
        "# Create External Feed: benchmarking_data.csv\n",
        "# -------------------------------\n",
        "\n",
        "# Group by JobRole & JobLevel → take median CTC as \"market base\"\n",
        "benchmark = (\n",
        "    df.groupby([\"JobTitle\", \"JobLevel\"])[\"CTC\"]\n",
        "      .median()\n",
        "      .reset_index()\n",
        "      .rename(columns={\"JobTitle\":\"JobRole\",\"CTC\":\"MarketMedianCTC\"})\n",
        ")\n",
        "\n",
        "# Add some random noise (±15%) to mimic real external survey variance\n",
        "rng = np.random.default_rng(42)\n",
        "benchmark[\"MarketMedianCTC\"] = benchmark[\"MarketMedianCTC\"] * (\n",
        "    1 + rng.uniform(-0.15, 0.15, size=len(benchmark))\n",
        ")\n",
        "\n",
        "benchmark.to_csv(\"data/benchmarking_data.csv\", index=False)\n",
        "\n",
        "print(\"✅ benchmarking_data.csv created:\", benchmark.shape)\n",
        "\n",
        "# Quick peek\n",
        "print(\"\\nInternal Feed Sample:\")\n",
        "print(employee_comp.head(3))\n",
        "print(\"\\nExternal Benchmark Feed Sample:\")\n",
        "print(benchmark.head(3))"
      ],
      "metadata": {
        "colab": {
          "base_uri": "https://localhost:8080/"
        },
        "id": "8aX2fFQzgslD",
        "outputId": "387f05f6-f067-4afd-8474-28f85eb5bd65"
      },
      "execution_count": 3,
      "outputs": [
        {
          "output_type": "stream",
          "name": "stdout",
          "text": [
            "✅ employee_compensation.csv created: (35000, 8)\n",
            "✅ benchmarking_data.csv created: (19, 3)\n",
            "\n",
            "Internal Feed Sample:\n",
            "  EmployeeID  Gender  Department           JobRole          JobLevel      CTC  \\\n",
            "0     O00001    Male  Operations  Senior Executive  Senior Executive   829780   \n",
            "1     L00001  Female       Legal           Analyst           Analyst   470888   \n",
            "2     M00001    Male   Marketing  Senior Executive  Senior Executive  1328177   \n",
            "\n",
            "    Bonus  PerformanceRating  \n",
            "0       0                  2  \n",
            "1       0                  3  \n",
            "2  129547                  3  \n",
            "\n",
            "External Benchmark Feed Sample:\n",
            "             JobRole           JobLevel  MarketMedianCTC\n",
            "0            Analyst            Analyst     6.007111e+05\n",
            "1  Assistant Manager  Assistant Manager     1.615395e+06\n",
            "2  Associate Partner  Associate Partner     8.290190e+06\n"
          ]
        }
      ]
    },
    {
      "cell_type": "code",
      "source": [
        "# -------------------------------\n",
        "# Step 1 — Refurbish faker mammoth → Internal + Benchmarking CSVs\n",
        "# -------------------------------\n",
        "import pandas as pd\n",
        "import numpy as np\n",
        "\n",
        "# Load faker mammoth\n",
        "df = pd.read_csv(\"faker_data/employee_master.csv\")\n",
        "\n",
        "# --- Internal Compensation File ---\n",
        "internal_cols = [\n",
        "    \"EmpID\",\"Name\",\"Dept\",\"JobLevel\",\"JobTitle\",\"Gender\",\n",
        "    \"CTC\",\"Bonus\",\"BaseSalary\",\"Allowances\",\"BenefitsValue\",\n",
        "    \"Location\",\"PerformanceRating\",\"EducationLevel\",\"Experience\",\"Age\"\n",
        "]\n",
        "df_internal = df[internal_cols].copy()\n",
        "df_internal.rename(columns={\n",
        "    \"Dept\":\"Department\",\n",
        "    \"CTC\":\"AnnualCTC\",\n",
        "    \"Bonus\":\"BonusAmount\"\n",
        "}, inplace=True)\n",
        "\n",
        "# Save internal file\n",
        "internal_path = \"faker_data/employee_compensation.csv\"\n",
        "df_internal.to_csv(internal_path, index=False)\n",
        "\n",
        "# --- External Benchmarking File ---\n",
        "# For benchmarking, aggregate by JobLevel + Dept with averages\n",
        "df_benchmark = (\n",
        "    df.groupby([\"Dept\",\"JobLevel\"])\n",
        "      .agg({\n",
        "          \"BaseSalary\":\"mean\",\n",
        "          \"CTC\":\"mean\",\n",
        "          \"Bonus\":\"mean\"\n",
        "      })\n",
        "      .reset_index()\n",
        ")\n",
        "\n",
        "df_benchmark.rename(columns={\n",
        "    \"Dept\":\"Department\",\n",
        "    \"BaseSalary\":\"AvgBaseSalary\",\n",
        "    \"CTC\":\"AvgCTC\",\n",
        "    \"Bonus\":\"AvgBonus\"\n",
        "}, inplace=True)\n",
        "\n",
        "# Add a \"MarketSource\" col to simulate source of benchmarks\n",
        "df_benchmark[\"MarketSource\"] = np.random.choice(\n",
        "    [\"Mercer\",\"Aon Hewitt\",\"Deloitte\",\"Internal Survey\"], size=len(df_benchmark)\n",
        ")\n",
        "\n",
        "# Save benchmark file\n",
        "benchmark_path = \"faker_data/benchmarking_data.csv\"\n",
        "df_benchmark.to_csv(benchmark_path, index=False)\n",
        "\n",
        "print(\"✅ Files created:\")\n",
        "print(\"-\", internal_path)\n",
        "print(\"-\", benchmark_path)\n",
        "\n",
        "\n",
        "# -------------------------------\n",
        "# Step 2 — Push back to GitHub (with PAT)\n",
        "# -------------------------------\n",
        "import os\n",
        "from getpass import getpass\n",
        "\n",
        "# Git config (set once in Colab session)\n",
        "os.system('git config --global user.email \"amlanm4@gmail.com\"')\n",
        "os.system('git config --global user.name \"Amlan Mishra\"')\n",
        "\n",
        "# Add & commit\n",
        "os.system(\"git add faker_data/employee_compensation.csv faker_data/benchmarking_data.csv\")\n",
        "os.system('git commit -m \"feat: add internal + benchmarking CSVs from faker mammoth\"')\n",
        "\n",
        "# Push with PAT\n",
        "token = getpass(\"🔑 Enter your GitHub token: \")\n",
        "os.system(f\"git push https://{token}@github.com/AMBOT-pixel96/hr-tech-portfolio.git main\")"
      ],
      "metadata": {
        "colab": {
          "base_uri": "https://localhost:8080/"
        },
        "id": "J4VyhlTxg0hG",
        "outputId": "95a86f4f-47a3-46f5-ae04-0de39d66b98e"
      },
      "execution_count": 4,
      "outputs": [
        {
          "name": "stdout",
          "output_type": "stream",
          "text": [
            "✅ Files created:\n",
            "- faker_data/employee_compensation.csv\n",
            "- faker_data/benchmarking_data.csv\n",
            "🔑 Enter your GitHub token: ··········\n"
          ]
        },
        {
          "output_type": "execute_result",
          "data": {
            "text/plain": [
              "0"
            ]
          },
          "metadata": {},
          "execution_count": 4
        }
      ]
    }
  ]
}