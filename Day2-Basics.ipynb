{
 "cells": [
  {
   "cell_type": "code",
   "execution_count": 1,
   "id": "8c3c1315-278d-4aff-a65e-af0d345aa927",
   "metadata": {},
   "outputs": [
    {
     "name": "stdout",
     "output_type": "stream",
     "text": [
      "My name is Amlan  and I am 29  years old\n"
     ]
    }
   ],
   "source": [
    "#1.Variables\n",
    "name=\"Amlan\"\n",
    "age=\"29\"\n",
    "print(\"My name is\",name,\" and I am\",age,\" years old\")"
   ]
  },
  {
   "cell_type": "code",
   "execution_count": 4,
   "id": "97aa91f1-753a-4dfc-9eb8-4736af969f41",
   "metadata": {},
   "outputs": [
    {
     "name": "stdout",
     "output_type": "stream",
     "text": [
      "Total Annual Pay: 1572480\n"
     ]
    }
   ],
   "source": [
    "#2.Simple Math\n",
    "salary=1404000 #Yearly INR\n",
    "bonus=salary*.12\n",
    "total=round(salary+bonus)\n",
    "print(\"Total Annual Pay:\",total)"
   ]
  },
  {
   "cell_type": "code",
   "execution_count": 7,
   "id": "e7d10b83-a0b2-4020-9fd4-ea8e839a0946",
   "metadata": {},
   "outputs": [
    {
     "name": "stdout",
     "output_type": "stream",
     "text": [
      "OM BHAIRAVAYE NAMAHA\n",
      "om bhairavaye namaha\n",
      "['Om', 'Bhairavaye', 'Namaha']\n"
     ]
    }
   ],
   "source": [
    "#3.Strings\n",
    "mantra=\"Om Bhairavaye Namaha\"\n",
    "print(mantra.upper())\n",
    "print(mantra.lower())\n",
    "print(mantra.split())"
   ]
  },
  {
   "cell_type": "code",
   "execution_count": 8,
   "id": "6cff6d9e-8010-44be-a995-5387b1f0f825",
   "metadata": {},
   "outputs": [
    {
     "name": "stdout",
     "output_type": "stream",
     "text": [
      "My Skills: ['Oracle Fusion', 'SAP Success Factors', 'Power BI', 'Python']\n"
     ]
    }
   ],
   "source": [
    "#4.Lists\n",
    "skills=[\"Oracle Fusion\",\"SAP Success Factors\",\"Power BI\"]\n",
    "skills.append(\"Python\")\n",
    "print(\"My Skills:\",skills)"
   ]
  },
  {
   "cell_type": "code",
   "execution_count": null,
   "id": "7b37912b-664a-40e7-b832-28376a4d6e55",
   "metadata": {},
   "outputs": [],
   "source": []
  }
 ],
 "metadata": {
  "kernelspec": {
   "display_name": "Python 3 (ipykernel)",
   "language": "python",
   "name": "python3"
  },
  "language_info": {
   "codemirror_mode": {
    "name": "ipython",
    "version": 3
   },
   "file_extension": ".py",
   "mimetype": "text/x-python",
   "name": "python",
   "nbconvert_exporter": "python",
   "pygments_lexer": "ipython3",
   "version": "3.13.5"
  }
 },
 "nbformat": 4,
 "nbformat_minor": 5
}
